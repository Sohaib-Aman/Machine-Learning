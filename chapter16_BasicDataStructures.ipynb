{
 "cells": [
  {
   "cell_type": "markdown",
   "metadata": {},
   "source": [
    "## Chapter14_Basic Data Structures in Python\n",
    "\n",
    "### 1. tuple\n",
    "### 2. list\n",
    "### 3 Dictionary\n",
    "### 4. set"
   ]
  },
  {
   "cell_type": "markdown",
   "metadata": {},
   "source": [
    "Tuple\n",
    "- A tuple is a ordered collection.\n",
    "- it is unchangeable.\n",
    "- Tuples are written with round brackets.\n",
    "- allow duplicate values."
   ]
  },
  {
   "cell_type": "code",
   "execution_count": 3,
   "metadata": {},
   "outputs": [
    {
     "name": "stdout",
     "output_type": "stream",
     "text": [
      "('apple', 'banana', 'cherry', 'apple', 'cherry')\n",
      "5\n"
     ]
    }
   ],
   "source": [
    "thistuple = (\"apple\", \"banana\", \"cherry\", \"apple\", \"cherry\")\n",
    "print(thistuple)\n",
    "print(len(thistuple))"
   ]
  },
  {
   "cell_type": "markdown",
   "metadata": {},
   "source": [
    "Create Tuple With One Item\n",
    "- To create a tuple with only one item, \n",
    "  you have to add a comma after the item, \n",
    "  otherwise Python will not recognize it as a tuple."
   ]
  },
  {
   "cell_type": "code",
   "execution_count": 4,
   "metadata": {},
   "outputs": [
    {
     "name": "stdout",
     "output_type": "stream",
     "text": [
      "<class 'tuple'>\n",
      "('apple', 'banana', 'cherry') \n",
      " (1, 5, 7, 9, 3) \n",
      " (True, False, False)\n",
      "('abc', 34, True, 40, 'male')\n",
      "<class 'tuple'>\n"
     ]
    }
   ],
   "source": [
    "thistuple = (\"apple\",)\n",
    "\n",
    "#NOT a tuple \n",
    "#thistuple = (\"apple\")  # will recognized as string\n",
    "print(type(thistuple))\n",
    "\n",
    "# different type of tuple\n",
    "tuple1 = (\"apple\", \"banana\", \"cherry\")\n",
    "tuple2 = (1, 5, 7, 9, 3)\n",
    "tuple3 = (True, False, False)\n",
    "print(tuple1,\"\\n\", tuple2,\"\\n\", tuple3)\n",
    "\n",
    "# different type of data in one tuple\n",
    "tupleMixData = (\"abc\", 34, True, 40, \"male\")\n",
    "print(tupleMixData)\n",
    "print(type(tupleMixData))"
   ]
  },
  {
   "cell_type": "markdown",
   "metadata": {},
   "source": [
    "The tuple() Constructor\n",
    "- It is also possible to use the tuple() constructor to make a tuple."
   ]
  },
  {
   "cell_type": "code",
   "execution_count": 5,
   "metadata": {},
   "outputs": [
    {
     "name": "stdout",
     "output_type": "stream",
     "text": [
      "('apple', 'banana', 'cherry')\n"
     ]
    }
   ],
   "source": [
    "thistuple = tuple((\"apple\", \"banana\", \"cherry\")) # note the double round-brackets\n",
    "print(thistuple)"
   ]
  },
  {
   "cell_type": "markdown",
   "metadata": {},
   "source": [
    "## Accessessing tuple elements"
   ]
  },
  {
   "cell_type": "code",
   "execution_count": 6,
   "metadata": {},
   "outputs": [
    {
     "name": "stdout",
     "output_type": "stream",
     "text": [
      "banana\n",
      "mango\n",
      "('cherry', 'orange', 'kiwi')\n",
      "('apple', 'banana', 'cherry', 'orange')\n",
      "('cherry', 'orange', 'kiwi', 'melon', 'mango')\n",
      "Yes, 'apple' is in the fruits tuple\n"
     ]
    }
   ],
   "source": [
    "thistuple = (\"apple\", \"banana\", \"cherry\", \"orange\", \"kiwi\", \"melon\", \"mango\")\n",
    "print(thistuple[1])\n",
    "print(thistuple[-1]) # Negative indexing means start from the end.\n",
    "print(thistuple[2:5]) # Range of Indexes\n",
    "print(thistuple[:4])\n",
    "print(thistuple[2:])\n",
    "if \"apple\" in thistuple:       # using conditional statements\n",
    "  print(\"Yes, 'apple' is in the fruits tuple\")"
   ]
  },
  {
   "cell_type": "markdown",
   "metadata": {},
   "source": [
    "Change Tuple Values\n",
    "- it is not possible to update the tuple values\n",
    "- But can convert the tuple into a list, change the list, and convert the list back into a tuple.¶"
   ]
  },
  {
   "cell_type": "code",
   "execution_count": 7,
   "metadata": {},
   "outputs": [
    {
     "data": {
      "text/plain": [
       "('apple', 'bananas', 'cherry', 'orange', 'kiwi', 'melon', 'mango')"
      ]
     },
     "execution_count": 7,
     "metadata": {},
     "output_type": "execute_result"
    }
   ],
   "source": [
    "thistuple = (\"apple\", \"banana\", \"cherry\", \"orange\", \"kiwi\", \"melon\", \"mango\")\n",
    "thislist = list(thistuple)\n",
    "thislist[1] = \"bananas\"\n",
    "thistuple = tuple(thislist)\n",
    "thistuple"
   ]
  },
  {
   "cell_type": "markdown",
   "metadata": {},
   "source": [
    "2. Another method to change the tuple is tuple allows\n",
    "us to add two tuples"
   ]
  },
  {
   "cell_type": "code",
   "execution_count": 8,
   "metadata": {},
   "outputs": [
    {
     "name": "stdout",
     "output_type": "stream",
     "text": [
      "('apple', 'banana', 'cherry')\n",
      "('orange', 'kiwi', 'melon', 'mango')\n",
      "('apple', 'banana', 'cherry', 'orange', 'kiwi', 'melon', 'mango')\n"
     ]
    }
   ],
   "source": [
    "tuple1 =(\"apple\", \"banana\", \"cherry\")\n",
    "tuple2 = (\"orange\", \"kiwi\", \"melon\", \"mango\")\n",
    "print(tuple1)\n",
    "print(tuple2)\n",
    "\n",
    "# adding tuple2 in tuple1\n",
    "tuple1 += tuple2\n",
    "print(tuple1)"
   ]
  },
  {
   "cell_type": "markdown",
   "metadata": {},
   "source": [
    "Remove the elements in tuple\n",
    "- as we know tuple is immutable. so, we cannot delete any items.\n",
    "- but, by converting to list, we can do it, after that again convert into tuple"
   ]
  },
  {
   "cell_type": "code",
   "execution_count": 9,
   "metadata": {},
   "outputs": [
    {
     "name": "stdout",
     "output_type": "stream",
     "text": [
      "('apple', 'banana')\n"
     ]
    }
   ],
   "source": [
    "tuple1 =(\"apple\", \"banana\", \"cherry\")\n",
    "list1 = list(tuple1)\n",
    "list1.remove(\"cherry\")\n",
    "tuple1 = tuple(list1)\n",
    "print(tuple1)"
   ]
  },
  {
   "cell_type": "markdown",
   "metadata": {},
   "source": [
    "delete tuple¶"
   ]
  },
  {
   "cell_type": "code",
   "execution_count": 12,
   "metadata": {},
   "outputs": [],
   "source": [
    "### delete tuple \n",
    "thistuple = (\"apple\", \"banana\", \"cherry\")\n",
    "del thistuple\n",
    "#print(thistuple) #this will raise an error because the tuple no longer exists"
   ]
  },
  {
   "cell_type": "markdown",
   "metadata": {},
   "source": [
    "Unpacking a Tuple\n",
    "- When we create a tuple, we normally assign values to it. This is called \"packing\" a tuple.\n",
    "- But, in Python, we are also allowed to extract the values back into variables. This is called \"unpacking\"."
   ]
  },
  {
   "cell_type": "code",
   "execution_count": 13,
   "metadata": {},
   "outputs": [
    {
     "name": "stdout",
     "output_type": "stream",
     "text": [
      "apple\n",
      "banana\n",
      "cherry\n"
     ]
    }
   ],
   "source": [
    "fruits = (\"apple\", \"banana\", \"cherry\")   # packing\n",
    "green, yellow, red = fruits\n",
    "\n",
    "print(green)\n",
    "print(yellow)\n",
    "print(red)"
   ]
  },
  {
   "cell_type": "markdown",
   "metadata": {},
   "source": [
    "The number of variables must match the number of values in the tuple,\n",
    "if not, you must use an asterisk to collect the remaining values as a list."
   ]
  },
  {
   "cell_type": "code",
   "execution_count": 14,
   "metadata": {},
   "outputs": [
    {
     "name": "stdout",
     "output_type": "stream",
     "text": [
      "apple\n",
      "banana\n",
      "['cherry', 'strawberry', 'raspberry']\n",
      "\n",
      "\n",
      "apple\n",
      "['banana', 'cherry', 'strawberry']\n",
      "raspberry\n",
      "\n",
      "\n",
      "apple\n",
      "banana\n",
      "cherry\n",
      "strawberry\n",
      "raspberry\n",
      "('apple', 'banana', 'cherry', 'apple', 'banana', 'cherry')\n"
     ]
    }
   ],
   "source": [
    "fruits = (\"apple\", \"banana\", \"cherry\", \"strawberry\", \"raspberry\")\n",
    "\n",
    "(green, yellow, *red) = fruits\n",
    "\n",
    "print(green)\n",
    "print(yellow)\n",
    "print(red)\n",
    "\n",
    "print(\"\\n\")\n",
    "(green, *yellow, red) = fruits\n",
    "\n",
    "print(green)\n",
    "print(yellow)\n",
    "print(red)\n",
    "\n",
    "\n",
    "print(\"\\n\")\n",
    "for f in fruits:\n",
    "  print(f)\n",
    "\n",
    "fruits = (\"apple\", \"banana\", \"cherry\") # If you want to multiply the content of a tuple a given number of times, you can use the * operator\n",
    "mytuple = fruits * 2\n",
    "\n",
    "print(mytuple)"
   ]
  },
  {
   "cell_type": "markdown",
   "metadata": {},
   "source": [
    "List\n",
    "- Lists are used to store multiple items in a single variable.\n",
    "- Lists are created using square brackets\n",
    "- List items are ordered, changeable, and allow duplicate values.\n",
    "- List items are indexed, the first item has index [0]"
   ]
  },
  {
   "cell_type": "code",
   "execution_count": 15,
   "metadata": {},
   "outputs": [
    {
     "name": "stdout",
     "output_type": "stream",
     "text": [
      "['apple', 'banana', 'cherry']\n",
      "['apple', 'banana', 'cherry', 'apple', 'cherry']\n",
      "5\n",
      "<class 'list'>\n"
     ]
    }
   ],
   "source": [
    "# list\n",
    "thislist = [\"apple\", \"banana\", \"cherry\"]\n",
    "print(thislist)\n",
    "\n",
    "# duplicate values\n",
    "thislist = [\"apple\", \"banana\", \"cherry\", \"apple\", \"cherry\"] # apple and cherry are duplicate value\n",
    "print(thislist)\n",
    "\n",
    "# length of list\n",
    "print(len(thislist))  # print length of list\n",
    "\n",
    "# different type of lists\n",
    "list1 = [\"apple\", \"banana\", \"cherry\"]\n",
    "list2 = [1, 5, 7, 9, 3]\n",
    "list3 = [True, False, False]\n",
    "\n",
    "# list containing different types of values\n",
    "list1 = [\"abc\", 34, True, 40, \"male\"]\n",
    "\n",
    "print(type(list1))"
   ]
  },
  {
   "cell_type": "code",
   "execution_count": 16,
   "metadata": {},
   "outputs": [
    {
     "name": "stdout",
     "output_type": "stream",
     "text": [
      "['apple', 'banana', 'cherry']\n",
      "banana\n",
      "cherry\n",
      "['cherry', 'orange', 'kiwi']\n",
      "['apple', 'banana', 'cherry', 'orange']\n",
      "['cherry', 'orange', 'kiwi', 'melon', 'mango']\n",
      "['orange', 'kiwi', 'melon']\n",
      "['apple', 'blackcurrant', 'cherry', 'orange', 'kiwi', 'melon', 'mango']\n",
      "['apple', 'blackcurrant', 'watermelon', 'orange', 'kiwi', 'melon', 'mango']\n",
      "['apple', 'blackcurrant', 'watermelon', 'watermelon', 'orange', 'kiwi', 'melon', 'mango']\n",
      "['apple', 'blackcurrant', 'watermelon', 'watermelon', 'orange', 'kiwi', 'melon', 'mango', 'orange']\n",
      "['apple', 'banana', 'cherry', 'mango', 'pineapple', 'papaya', 'banana']\n",
      "['apple', 'cherry', 'mango', 'pineapple', 'papaya', 'banana']\n",
      "['apple', 'mango', 'pineapple', 'papaya', 'banana']\n",
      "['apple', 'mango', 'pineapple', 'papaya']\n",
      "['mango', 'pineapple', 'papaya']\n",
      "[]\n"
     ]
    }
   ],
   "source": [
    "thislist = list((\"apple\", \"banana\", \"cherry\"))   # note the double round-brackets (list constructor)\n",
    "print(thislist)\n",
    "\n",
    "print(thislist[1])   # access list item\n",
    "print(thislist[-1])\n",
    "\n",
    "thislist = [\"apple\", \"banana\", \"cherry\", \"orange\", \"kiwi\", \"melon\", \"mango\"]\n",
    "print(thislist[2:5])\n",
    "print(thislist[:4])\n",
    "print(thislist[2:])\n",
    "print(thislist[-4:-1])\n",
    "   \n",
    "thislist[1] = \"blackcurrant\"  # change item value\n",
    "print(thislist)\n",
    "\n",
    "thislist[1:3] = [\"blackcurrant\", \"watermelon\"]  # change list of values\n",
    "print(thislist)\n",
    "\n",
    "thislist.insert(2, \"watermelon\")  # insert item at 2nd position\n",
    "print(thislist)\n",
    "\n",
    "thislist.append(\"orange\")   # append method insert element at end\n",
    "print(thislist)\n",
    "\n",
    "thislist = [\"apple\", \"banana\", \"cherry\"]   # extends method to extends the list\n",
    "tropical = [\"mango\", \"pineapple\", \"papaya\", \"banana\"]\n",
    "\n",
    "thislist.extend(tropical)\n",
    "print(thislist)\n",
    "\n",
    "thislist.remove(\"banana\") # banana will remove banana( jo pehli bar ae ga, sirf wahi delete hoga baki nahi)\n",
    "print(thislist)\n",
    "\n",
    "thislist.pop(1)   # remove the element at 1 index\n",
    "print(thislist)\n",
    "\n",
    "thislist.pop()    # remove the element \n",
    "print(thislist)\n",
    "\n",
    "del thislist[0]   # The del keyword also removes the specified index\n",
    "print(thislist)   \n",
    "\n",
    "thislist.clear()  # The list still remains, but it has no content.\n",
    "print(thislist)\n",
    "\n",
    "del thislist     \n",
    "#print(thislist)"
   ]
  },
  {
   "cell_type": "markdown",
   "metadata": {},
   "source": [
    "Set\n",
    "- Sets are used to store multiple items in a single variable.\n",
    "- A set is a collection which is unordered, unchangeable(but we can add or remove new element), and unindexed.\n",
    "- Sets are written with curly brackets.\n",
    "- do not allow duplicate values."
   ]
  },
  {
   "cell_type": "code",
   "execution_count": 17,
   "metadata": {},
   "outputs": [
    {
     "name": "stdout",
     "output_type": "stream",
     "text": [
      "{'cherry', 'apple', 'banana'}\n",
      "3\n",
      "<class 'set'>\n",
      "{'cherry', 'apple', 'banana'}\n"
     ]
    }
   ],
   "source": [
    "thisset = {\"apple\", \"banana\", \"cherry\", \"apple\"}  # {} means we are creating set in python\n",
    "print(thisset)\n",
    "\n",
    "# thisset = {\"apple\", \"banana\", \"cherry\", True, 1, 2} # The values True and 1 are considered the same value in sets, and are treated as duplicates\n",
    "\n",
    "# thisset = {\"apple\", \"banana\", \"cherry\", False, True, 0} # The values False and 0 are considered the same value in sets, and are treated as duplicates\n",
    "\n",
    "print(len(thisset)) # length of thisset\n",
    "\n",
    "set1 = {\"apple\", \"banana\", \"cherry\"}\n",
    "set2 = {1, 5, 7, 9, 3}\n",
    "set3 = {True, False, False}\n",
    "\n",
    "set1 = {\"abc\", 34, True, 40, \"male\"}\n",
    "\n",
    "print(type(set1))\n",
    "\n",
    "\n",
    "thisset = set((\"apple\", \"banana\", \"cherry\")) # note the double round-brackets( using set() constructor)\n",
    "print(thisset)\n",
    "\n"
   ]
  },
  {
   "cell_type": "markdown",
   "metadata": {},
   "source": [
    "Access Items\n",
    "- You cannot access items in a set by referring to an index or a key.\n",
    "- But you can loop through the set items using a for loop, or ask if a specified value is present in a set, by using the in keyword."
   ]
  },
  {
   "cell_type": "code",
   "execution_count": 18,
   "metadata": {},
   "outputs": [
    {
     "name": "stdout",
     "output_type": "stream",
     "text": [
      "cherry\n",
      "apple\n",
      "banana\n",
      "{'orange', 'cherry', 'apple', 'banana'}\n",
      "{'cherry', 'mango', 'papaya', 'pineapple', 'apple', 'banana'}\n"
     ]
    }
   ],
   "source": [
    "thisset = {\"apple\", \"banana\", \"cherry\"}\n",
    "\n",
    "for x in thisset:\n",
    "  print(x)\n",
    "\n",
    "thisset.add(\"orange\")  # add element in set\n",
    "print(thisset)\n",
    "\n",
    "thisset = {\"apple\", \"banana\", \"cherry\"}\n",
    "tropical = {\"pineapple\", \"mango\", \"papaya\"}\n",
    "thisset.update(tropical)          # add 2nd set into first set\n",
    "print(thisset)"
   ]
  },
  {
   "cell_type": "markdown",
   "metadata": {},
   "source": [
    "update() method\n",
    "- by using this method we can add any iterable object ( means we can add tuples, lists, dictionaries etc) in the set"
   ]
  },
  {
   "cell_type": "code",
   "execution_count": 20,
   "metadata": {},
   "outputs": [
    {
     "name": "stdout",
     "output_type": "stream",
     "text": [
      "{'kiwi', 'orange', 'cherry', 'apple', 'banana'}\n",
      "<class 'set'>\n",
      "{'kiwi', 'orange', 'cherry', 'apple'}\n",
      "{'kiwi', 'orange', 'cherry', 'apple'}\n",
      "pop value form set is  kiwi\n",
      "{'orange', 'cherry', 'apple'}\n"
     ]
    }
   ],
   "source": [
    "thisset = {\"apple\", \"banana\", \"cherry\"}    # set\n",
    "mylist = [\"kiwi\", \"orange\"]                # list\n",
    "\n",
    "thisset.update(mylist)                    # adding list into set\n",
    "\n",
    "print(thisset)\n",
    "print(type(thisset))\n",
    "\n",
    "thisset.remove(\"banana\")                  # remove function to remove elements from set \n",
    "print(thisset)\n",
    "\n",
    "\n",
    "thisset.discard(\"banana\")\n",
    "\n",
    "print(thisset)                           # discard method also remove elements from set\n",
    "                                        # difference b/w remove and discard is that remove will generate error if value not exist\n",
    "                                         # while discard will not generate error.\n",
    "\n",
    "x = thisset.pop()                        #  Sets are unordered, so when using the pop() method, you do not know which item that gets removed.\n",
    "print(\"pop value form set is \", x)       \n",
    "print(thisset)\n",
    "\n",
    "del thisset                             # delete thisset\n",
    "#print(thisset)"
   ]
  },
  {
   "cell_type": "markdown",
   "metadata": {},
   "source": [
    "Dictionaries\n",
    "- Dictionariesare used to store data values in key:value pairs.\n",
    "- A dictionary is a collection which is ordered*, changeable and do not allow duplicates.\n",
    "- As of Python version 3.7, dictionaries are ordered. In Python 3.6 and earlier, dictionaries are unordered."
   ]
  },
  {
   "cell_type": "code",
   "execution_count": 21,
   "metadata": {},
   "outputs": [
    {
     "name": "stdout",
     "output_type": "stream",
     "text": [
      "{'name': 'asim', 'age': 30, 'designation': 'lecturer', 'colors': ['red', 'white', 'blue']}\n",
      "age 30\n"
     ]
    }
   ],
   "source": [
    "thisdict = {\"name\":\"asim\",\n",
    "            \"age\":20,\n",
    "            \"designation\":\"lecturer\",\n",
    "            \"age\":30,\n",
    "            \"colors\": [\"red\", \"white\", \"blue\"]  # The values in dictionary items can be of any data type.\n",
    "           }\n",
    "print(thisdict)\n",
    "print(\"age\", thisdict[\"age\"])"
   ]
  },
  {
   "cell_type": "code",
   "execution_count": 22,
   "metadata": {},
   "outputs": [
    {
     "name": "stdout",
     "output_type": "stream",
     "text": [
      "4\n",
      "{'name': 'John', 'age': 36, 'country': 'Norway'}\n",
      "Norway\n",
      "dict_keys(['name', 'age', 'country'])\n",
      "dict_values(['John', 36, 'Norway'])\n"
     ]
    },
    {
     "ename": "KeyError",
     "evalue": "'model'",
     "output_type": "error",
     "traceback": [
      "\u001b[1;31m---------------------------------------------------------------------------\u001b[0m",
      "\u001b[1;31mKeyError\u001b[0m                                  Traceback (most recent call last)",
      "Cell \u001b[1;32mIn[22], line 23\u001b[0m\n\u001b[0;32m     20\u001b[0m thisdict[\u001b[38;5;124m\"\u001b[39m\u001b[38;5;124mcolor\u001b[39m\u001b[38;5;124m\"\u001b[39m] \u001b[38;5;241m=\u001b[39m \u001b[38;5;124m\"\u001b[39m\u001b[38;5;124mred\u001b[39m\u001b[38;5;124m\"\u001b[39m       \u001b[38;5;66;03m# adding new key:value pair in dictionary\u001b[39;00m\n\u001b[0;32m     21\u001b[0m thisdict\n\u001b[1;32m---> 23\u001b[0m \u001b[43mthisdict\u001b[49m\u001b[38;5;241;43m.\u001b[39;49m\u001b[43mpop\u001b[49m\u001b[43m(\u001b[49m\u001b[38;5;124;43m\"\u001b[39;49m\u001b[38;5;124;43mmodel\u001b[39;49m\u001b[38;5;124;43m\"\u001b[39;49m\u001b[43m)\u001b[49m           \u001b[38;5;66;03m# remove model key with value from dictionary\u001b[39;00m\n\u001b[0;32m     24\u001b[0m thisdict\n\u001b[0;32m     26\u001b[0m thisdict\u001b[38;5;241m.\u001b[39mpopitem()             \u001b[38;5;66;03m# popitem() will work as pop() in stack. \u001b[39;00m\n",
      "\u001b[1;31mKeyError\u001b[0m: 'model'"
     ]
    }
   ],
   "source": [
    "print(len(thisdict))\n",
    "\n",
    "thisdict = dict(name = \"John\", age = 36, country = \"Norway\")    # Using the dict() method to make a dictionary\n",
    "print(thisdict)\n",
    "print(thisdict.get(\"country\"))          # get() that will give you the same result as print(\"age\", thisdict[\"age\"])\n",
    "\n",
    "\n",
    "print(thisdict.keys())           # printing dictionary keys\n",
    "print(thisdict.values())         # printing dictionary values\n",
    "\n",
    " \n",
    "thisdict[\"age\"] = 40             # because dictionary are mutable so we can change values\n",
    "thisdict\n",
    "\n",
    "thisdict.items()                 # get values in key:value pair form\n",
    "\n",
    "thisdict.update({\"age\": 2020})  # we can use update method to update value of a key\n",
    "thisdict\n",
    "\n",
    "thisdict[\"color\"] = \"red\"       # adding new key:value pair in dictionary\n",
    "thisdict\n",
    "\n",
    "thisdict.pop(\"model\")           # remove model key with value from dictionary\n",
    "thisdict\n",
    "\n",
    "thisdict.popitem()             # popitem() will work as pop() in stack. \n",
    "\n",
    "del thisdict[\"model\"]          # delete key\n",
    "\n",
    "del thisdict                   # delete dictionary\n",
    "\n",
    "thisdict.clear()               # clear dictionary\n"
   ]
  },
  {
   "cell_type": "code",
   "execution_count": 23,
   "metadata": {},
   "outputs": [
    {
     "name": "stdout",
     "output_type": "stream",
     "text": [
      "name\n",
      "age\n",
      "country\n",
      "color\n",
      "name\n",
      "age\n",
      "country\n",
      "color\n",
      "John\n",
      "2020\n",
      "Norway\n",
      "red\n",
      "John\n",
      "2020\n",
      "Norway\n",
      "red\n",
      "name John\n",
      "age 2020\n",
      "country Norway\n",
      "color red\n"
     ]
    }
   ],
   "source": [
    "                                  # print all keys\n",
    "for x in thisdict:\n",
    "  print(x)\n",
    "\n",
    "for x in thisdict.keys():\n",
    "  print(x)\n",
    "    \n",
    "\n",
    "                                    # print values of keys\n",
    "for x in thisdict:\n",
    "  print(thisdict[x])\n",
    "\n",
    "for x in thisdict.values():\n",
    "  print(x)\n",
    "\n",
    "                                    # print both keys and values\n",
    "for x, y in thisdict.items():\n",
    "  print(x, y)\n"
   ]
  },
  {
   "cell_type": "markdown",
   "metadata": {},
   "source": [
    "Copy a Dictionary"
   ]
  },
  {
   "cell_type": "code",
   "execution_count": 24,
   "metadata": {},
   "outputs": [
    {
     "name": "stdout",
     "output_type": "stream",
     "text": [
      "{'brand': 'Ford', 'model': 'Mustang', 'year': 1964}\n",
      "{'brand': 'Ford', 'model': 'Mustang', 'year': 1964}\n"
     ]
    }
   ],
   "source": [
    "thisdict = {\n",
    "  \"brand\": \"Ford\",\n",
    "  \"model\": \"Mustang\",\n",
    "  \"year\": 1964\n",
    "}\n",
    "mydict = thisdict.copy()              # using copy method\n",
    "print(mydict) \n",
    "\n",
    "thisdict = {\n",
    "  \"brand\": \"Ford\",\n",
    "  \"model\": \"Mustang\",\n",
    "  \"year\": 1964\n",
    "} \n",
    "mydict = dict(thisdict)                # using constructor\n",
    "print(mydict) "
   ]
  },
  {
   "cell_type": "markdown",
   "metadata": {},
   "source": [
    "Difference Between Tuple, list , set and dictionary\n",
    "List\n",
    "-  is a collection which is ordered and changeable. Allows duplicate members.\n",
    "Tuple\n",
    "-  is a collection which is ordered and unchangeable. Allows duplicate members.\n",
    "Set\n",
    "-  is a collection which is unordered, unchangeable*, and unindexed. No duplicate members.\n",
    "Dictionary\n",
    "-  is a collection which is ordered** and changeable. No duplicate members."
   ]
  }
 ],
 "metadata": {
  "kernelspec": {
   "display_name": "Python 3",
   "language": "python",
   "name": "python3"
  },
  "language_info": {
   "codemirror_mode": {
    "name": "ipython",
    "version": 3
   },
   "file_extension": ".py",
   "mimetype": "text/x-python",
   "name": "python",
   "nbconvert_exporter": "python",
   "pygments_lexer": "ipython3",
   "version": "3.12.2"
  }
 },
 "nbformat": 4,
 "nbformat_minor": 2
}
