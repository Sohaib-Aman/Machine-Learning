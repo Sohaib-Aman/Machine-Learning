print("hello")

List:

collection of data (items).
  
["apple", "banana", "cherry"]

# list
fruits = ["apple", "banana", "cherry"]
print(fruits)
print(type(fruits))

# check type of fruits variable
print(type(fruits))

# different type of list
# number list
listNumber = [1,2,3,4]
listBoolean = [True, False, True,False]

print(listNumber)
print(listBoolean)

# different type of data in list
list = ["abc",34,True,40,"male"]
print(list)

# list is changeable (mutable)
list[1] = 60
print(list)

# duplicate values allowed
listDuplicate = [1,2,1,2,1,2]
print(listDuplicate)

# list different types function
# append()      insert new item at end
listF = [100,20,300,4000,5]
listF.sort()
print(listF)

# list different types function
# append()      insert new item at end.
listF = [100,20,300,4000,5,20]
listF.sort()
print(listF)

listF.remove(20)  
print(listF)

listF.pop()       # remove last element
print(listF)

listF.append(33)  # insert new element at end.
print(listF)

# tuple
tuple = ("apple", "banana", "cherry")
print(tuple)
# duplication allow
tup=("a","b","c","d")
print(tup)

# use of contructor list()
1st = list((10,2,30,40)) 
print(1st)
print(type(1st))

