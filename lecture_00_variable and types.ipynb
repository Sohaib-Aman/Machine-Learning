%pip install pandas

import pandas as pd

dataset = pd.read_csv("loan.csv")
dataset
