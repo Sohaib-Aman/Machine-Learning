tuple1 = ("apple", "cherry", "banana")
print(tuple1)
print(type(tuple1))

tuple2 = ("apple")
print(type(tuple2))

# tuples are ordered
print(tuple1)
print(tuple1)
print(tuple1)
print(tuple1)

tuple1 = ("apple", "cherry", "banana")
tuple1 = "grapes"
print(tuple1)

# dup[lication are allowed.
tuple1 = ("apple", "cherry", "banana", "apple")
print(tuple1)

# tuple constructor
tupleC = tuple(("python", "java", "C"))
print(tupleC)
print(type(tupleC))

set1 = {"apple", "cherry", "banana"}
print(set1)
print(type(set1))

print(set1)

set1 = {"apple", "cherry", "banana"}
set1 = "grapes"
print(set1)

# duplication are not allowed.
set1 = {"apple", "cherry", "banana", "apple"}
print(set1)

dict1 = {"name": "Ali", "country":"Pakistan", "City":"Multan"}
print(dict1)
print(type(dict1))

# set are un-indexed.
set1 = {"apple", "cherry", "banana"}
print(set1)

# update dictionary values.
dict1["name"] = "Saddam"
print(dict1)

newdict= dict( name = "Saddam", Country="Pakistan", City="Multan")
print(newdict)
print(type(newdict))

print(newdict.keys())

print(newdict.values())

### for loop
dict1 = {"name": "Ali", "country":"Pakistan", "City":"Multan"}
# for VariableName in dict/list/set/tuple ;
# print()
for x in dict1:
    print(x)

for x in dict1.keys():
    print(x)

for x in dict1.values():
    print(x)

